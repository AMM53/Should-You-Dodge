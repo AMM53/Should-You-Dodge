{
 "cells": [
  {
   "cell_type": "code",
   "execution_count": 29,
   "metadata": {},
   "outputs": [],
   "source": [
    "# load libraries\n",
    "import pandas as pd\n",
    "import numpy as np\n",
    "import requests\n",
    "from bs4 import BeautifulSoup"
   ]
  },
  {
   "cell_type": "code",
   "execution_count": 76,
   "metadata": {},
   "outputs": [],
   "source": [
    "df = pd.read_parquet(\"df-FULL.parquet\")\n",
    "df.index = range(0, len(df))"
   ]
  },
  {
   "cell_type": "code",
   "execution_count": 99,
   "metadata": {},
   "outputs": [],
   "source": [
    "beginner = '''Amumu,Annie,Ashe,Cho'Gath,Dr. Mundo,Garen,Janna,Jinx,Malphite,Malzahar,Maokai,Nasus,Nautilus,Nocturne,Nunu & Willump,Olaf,Rammus,Shyvana,Sivir,Skarner,Soraka,Teemo,Tristana,Trundle,Udyr'''\n",
    "\n",
    "novice = '''Alistar,Blitzcrank,Brand,Braum,Darius,Diana,Galio,Hecarim,Jarvan IV,Jax,Karma,Karthus,Kog'Maw,Leona,Lucian,Lulu,Lux,Master Yi,Miss Fortune,Morgana,Neeko,Pantheon,Renekton,Sejuani,Seraphine,Shen,Sion,Sona,Swain,Taric,Tryndamere,Veigar,Vi,Volibear,Warwick,Wukong,Xin Zhao,Zac,Ziggs'''\n",
    "\n",
    "intermediate = '''Ahri,Cassiopeia,Corki,Ekko,Elise,Ezreal,Fiora,Fizz,Gragas,Graves,Kai'Sa,Kassadin,Kayn,Kennen,Kha'Zix,Lissandra,Nami,Ornn,Poppy,Pyke,Rakan,Rek'Sai,Sett,Talon,Twitch,Varus,Vayne,Vel'Koz,Viktor,Xayah,Xerath,Zilean,Rell'''\n",
    "\n",
    "high = '''Anivia,Aurelion Sol,Evelynn,Fiddlesticks,Gnar,Heimerdinger,Illaoi,Ivern,Jayce,Jhin,Kalista,Kayle,Kled,Mordekaiser,Quinn,Rengar,Rumble,Ryze,Shaco,Singed,Tahm Kench,Taliyah,Twisted Fate,Urgot,Vladimir,Yorick,Yuumi,Zyra'''\n",
    "\n",
    "advanced = '''Aatrox,Bard,Caitlyn,Draven,Kindred,LeBlanc,Orianna,Senna,Sylas,Syndra,Thresh,Yone,Zed,Viego,Vex,Gwen,Akshan'''\n",
    "\n",
    "expert = '''Akali,Aphelios,Azir,Camille,Gangplank,Irelia,Katarina,Lee Sin,Lillia,Nidalee,Qiyana,Riven,Samira,Yasuo,Zoe,Renata Glasc,Zeri'''\n",
    "\n",
    "beginner = beginner.split(',')\n",
    "novice = novice.split(',')\n",
    "intermediate = intermediate.split(',')\n",
    "high = high.split(',')\n",
    "advanced = advanced.split(',')\n",
    "expert = expert.split(',')"
   ]
  },
  {
   "cell_type": "code",
   "execution_count": 100,
   "metadata": {},
   "outputs": [],
   "source": [
    "for row in df['Champion'].index:\n",
    "    if df['Champion'][row] in beginner:\n",
    "        df.at[row, 'Champion'] = \"Beginner\"\n",
    "    elif df['Champion'][row] in novice:\n",
    "        df.at[row, 'Champion'] = \"Novice\"\n",
    "    elif df['Champion'][row] in intermediate:\n",
    "        df.at[row, 'Champion'] = \"Intermediate\"\n",
    "    elif df['Champion'][row] in high:\n",
    "        df.at[row, 'Champion'] = \"High\"\n",
    "    elif df['Champion'][row] in advanced:\n",
    "        df.at[row, 'Champion'] = \"Advanced\"\n",
    "    elif df['Champion'][row] in expert:\n",
    "        df.at[row, 'Champion'] = \"Expert\""
   ]
  },
  {
   "cell_type": "code",
   "execution_count": 105,
   "metadata": {},
   "outputs": [
    {
     "data": {
      "text/html": [
       "<div>\n",
       "<style scoped>\n",
       "    .dataframe tbody tr th:only-of-type {\n",
       "        vertical-align: middle;\n",
       "    }\n",
       "\n",
       "    .dataframe tbody tr th {\n",
       "        vertical-align: top;\n",
       "    }\n",
       "\n",
       "    .dataframe thead th {\n",
       "        text-align: right;\n",
       "    }\n",
       "</style>\n",
       "<table border=\"1\" class=\"dataframe\">\n",
       "  <thead>\n",
       "    <tr style=\"text-align: right;\">\n",
       "      <th></th>\n",
       "      <th>index</th>\n",
       "      <th>missing_value</th>\n",
       "      <th>feature_type</th>\n",
       "      <th>columns_percentage</th>\n",
       "    </tr>\n",
       "  </thead>\n",
       "  <tbody>\n",
       "    <tr>\n",
       "      <th>5</th>\n",
       "      <td>Games Played</td>\n",
       "      <td>6887</td>\n",
       "      <td>float64</td>\n",
       "      <td>0.036715</td>\n",
       "    </tr>\n",
       "    <tr>\n",
       "      <th>6</th>\n",
       "      <td>Winrate</td>\n",
       "      <td>6887</td>\n",
       "      <td>float64</td>\n",
       "      <td>0.036715</td>\n",
       "    </tr>\n",
       "    <tr>\n",
       "      <th>7</th>\n",
       "      <td>KDA</td>\n",
       "      <td>6887</td>\n",
       "      <td>float64</td>\n",
       "      <td>0.036715</td>\n",
       "    </tr>\n",
       "    <tr>\n",
       "      <th>8</th>\n",
       "      <td>CS per minute</td>\n",
       "      <td>6887</td>\n",
       "      <td>float64</td>\n",
       "      <td>0.036715</td>\n",
       "    </tr>\n",
       "    <tr>\n",
       "      <th>0</th>\n",
       "      <td>Summoner Name</td>\n",
       "      <td>0</td>\n",
       "      <td>object</td>\n",
       "      <td>0.000000</td>\n",
       "    </tr>\n",
       "    <tr>\n",
       "      <th>1</th>\n",
       "      <td>Champion</td>\n",
       "      <td>0</td>\n",
       "      <td>object</td>\n",
       "      <td>0.000000</td>\n",
       "    </tr>\n",
       "    <tr>\n",
       "      <th>2</th>\n",
       "      <td>Summoner Winrate</td>\n",
       "      <td>0</td>\n",
       "      <td>float64</td>\n",
       "      <td>0.000000</td>\n",
       "    </tr>\n",
       "    <tr>\n",
       "      <th>4</th>\n",
       "      <td>WinRate Last 5</td>\n",
       "      <td>0</td>\n",
       "      <td>float64</td>\n",
       "      <td>0.000000</td>\n",
       "    </tr>\n",
       "    <tr>\n",
       "      <th>3</th>\n",
       "      <td>Result</td>\n",
       "      <td>0</td>\n",
       "      <td>int32</td>\n",
       "      <td>0.000000</td>\n",
       "    </tr>\n",
       "  </tbody>\n",
       "</table>\n",
       "</div>"
      ],
      "text/plain": [
       "              index  missing_value feature_type  columns_percentage\n",
       "5      Games Played           6887      float64            0.036715\n",
       "6           Winrate           6887      float64            0.036715\n",
       "7               KDA           6887      float64            0.036715\n",
       "8     CS per minute           6887      float64            0.036715\n",
       "0     Summoner Name              0       object            0.000000\n",
       "1          Champion              0       object            0.000000\n",
       "2  Summoner Winrate              0      float64            0.000000\n",
       "4    WinRate Last 5              0      float64            0.000000\n",
       "3            Result              0        int32            0.000000"
      ]
     },
     "execution_count": 105,
     "metadata": {},
     "output_type": "execute_result"
    }
   ],
   "source": [
    "# Análisis Nulos por columnas\n",
    "nulos_col = pd.merge(df.isnull().sum().sort_values().to_frame('missing_value').reset_index(),\n",
    "         df.dtypes.to_frame('feature_type').reset_index(),\n",
    "         on = 'index',\n",
    "         how = 'inner')\n",
    "nulos_col['columns_percentage'] = nulos_col['missing_value']/df.shape[0]\n",
    "nulos_col.sort_values(['missing_value', 'feature_type', 'columns_percentage'], ascending=False)"
   ]
  },
  {
   "cell_type": "code",
   "execution_count": 104,
   "metadata": {},
   "outputs": [],
   "source": [
    "df['Result'] = df['Result'].astype('int')\n",
    "df['CS per minute'] = df['CS per minute'].astype('float')\n",
    "\n",
    "df = df.loc[df['Result'] != 99]"
   ]
  },
  {
   "cell_type": "code",
   "execution_count": 106,
   "metadata": {},
   "outputs": [],
   "source": [
    "import sklearn\n",
    "from sklearn.pipeline import Pipeline\n",
    "from sklearn.impute import SimpleImputer\n",
    "from sklearn.preprocessing import StandardScaler, OneHotEncoder\n",
    "\n",
    "from sklearn.utils import resample\n",
    "from sklearn.ensemble import RandomForestClassifier\n",
    "from sklearn.preprocessing import StandardScaler\n",
    "from sklearn.model_selection import train_test_split\n",
    "from sklearn.model_selection import cross_validate, KFold\n",
    "\n",
    "from sklearn.metrics import classification_report, confusion_matrix, roc_curve, auc, \\\n",
    "                            silhouette_score, recall_score, precision_score, make_scorer, \\\n",
    "                            roc_auc_score, f1_score, precision_recall_curve\n",
    "\n",
    "from sklearn.metrics import accuracy_score, roc_auc_score, \\\n",
    "                            classification_report, confusion_matrix\n",
    "\n",
    "\n",
    "from sklearn import metrics\n",
    "from sklearn.metrics import plot_confusion_matrix"
   ]
  },
  {
   "cell_type": "code",
   "execution_count": 107,
   "metadata": {},
   "outputs": [],
   "source": [
    "import lightgbm\n",
    "from sklearn.model_selection import train_test_split\n",
    "from aux_func import evaluate_model, model_analysis\n",
    "\n",
    "#Combining numerical and categorical piepline into one big pipeline horizontally using ColumnTransformer\n",
    "from sklearn.compose import ColumnTransformer\n",
    "\n",
    "## No podemos utilizar TransformTargetRegression porque estamos en un modelo de clasificacion\n",
    "# from 'Y' and 'N' to numeric values\n",
    "from sklearn.preprocessing import LabelEncoder\n",
    "\n",
    "from sklearn.metrics import accuracy_score, log_loss\n",
    "from sklearn.neighbors import KNeighborsClassifier\n",
    "from sklearn.svm import SVC, LinearSVC, NuSVC\n",
    "from sklearn.tree import DecisionTreeClassifier\n",
    "from sklearn.ensemble import RandomForestClassifier, AdaBoostClassifier, GradientBoostingClassifier\n",
    "from sklearn.discriminant_analysis import LinearDiscriminantAnalysis\n",
    "from sklearn.discriminant_analysis import QuadraticDiscriminantAnalysis"
   ]
  },
  {
   "cell_type": "code",
   "execution_count": 108,
   "metadata": {},
   "outputs": [],
   "source": [
    "#Defining the steps in the numerical pipeline \n",
    "numeric_transformer = Pipeline(steps=[\n",
    "    ('imputer', SimpleImputer(strategy='constant', fill_value=0))])\n",
    "\n",
    "#Defining the steps in the categorical pipeline \n",
    "categorical_transformer = Pipeline(steps=[\n",
    "    ('imputer', SimpleImputer(strategy='constant', fill_value='missing')),\n",
    "    ('onehot', OneHotEncoder(handle_unknown='ignore'))])\n",
    "    \n",
    "    \n",
    "#Numerical features to pass down the numerical pipeline \n",
    "numeric_features = df.select_dtypes(include=['int64', 'int32', 'float64', 'float32']).drop(['Result'], axis=1).columns\n",
    "\n",
    "#Categrical features to pass down the categorical pipeline \n",
    "categorical_features = df.drop([\"Summoner Name\"], axis=1).select_dtypes(include=['object']).columns"
   ]
  },
  {
   "cell_type": "code",
   "execution_count": 113,
   "metadata": {},
   "outputs": [],
   "source": [
    "import xgboost as xgb"
   ]
  },
  {
   "cell_type": "code",
   "execution_count": 114,
   "metadata": {},
   "outputs": [],
   "source": [
    "preprocessor = ColumnTransformer(\n",
    "    transformers=[\n",
    "        ('num', numeric_transformer, numeric_features),\n",
    "        ('cat', categorical_transformer, categorical_features)])\n",
    "\n",
    "classifiers = [\n",
    "    lightgbm.LGBMClassifier(),\n",
    "    xgb.XGBClassifier(),\n",
    "    RandomForestClassifier()\n",
    "    ]"
   ]
  },
  {
   "cell_type": "code",
   "execution_count": 115,
   "metadata": {},
   "outputs": [],
   "source": [
    "x, y = df.drop([\"Summoner Name\", \"Result\"], axis=1), df['Result']\n",
    "xtrain,xtest,ytrain,ytest=train_test_split(x,y,test_size=0.2,random_state=0)"
   ]
  },
  {
   "cell_type": "code",
   "execution_count": 118,
   "metadata": {},
   "outputs": [],
   "source": [
    "import warnings\n",
    "warnings.filterwarnings('ignore')"
   ]
  },
  {
   "cell_type": "code",
   "execution_count": 119,
   "metadata": {},
   "outputs": [
    {
     "name": "stdout",
     "output_type": "stream",
     "text": [
      "LGBMClassifier()\n",
      "model score: 0.637\n",
      "[21:55:51] WARNING: D:\\bld\\xgboost-split_1637426510059\\work\\src\\learner.cc:1115: Starting in XGBoost 1.3.0, the default evaluation metric used with the objective 'binary:logistic' was changed from 'error' to 'logloss'. Explicitly set eval_metric if you'd like to restore the old behavior.\n",
      "XGBClassifier(base_score=0.5, booster='gbtree', colsample_bylevel=1,\n",
      "              colsample_bynode=1, colsample_bytree=1, enable_categorical=False,\n",
      "              gamma=0, gpu_id=-1, importance_type=None,\n",
      "              interaction_constraints='', learning_rate=0.300000012,\n",
      "              max_delta_step=0, max_depth=6, min_child_weight=1, missing=nan,\n",
      "              monotone_constraints='()', n_estimators=100, n_jobs=12,\n",
      "              num_parallel_tree=1, predictor='auto', random_state=0,\n",
      "              reg_alpha=0, reg_lambda=1, scale_pos_weight=1, subsample=1,\n",
      "              tree_method='exact', validate_parameters=1, verbosity=None)\n",
      "model score: 0.631\n",
      "RandomForestClassifier()\n",
      "model score: 0.568\n"
     ]
    }
   ],
   "source": [
    "for classifier in classifiers:\n",
    "    pipe = Pipeline(steps=[('preprocessor', preprocessor),\n",
    "                      ('classifier', classifier)])\n",
    "    pipe.fit(xtrain, ytrain)   \n",
    "    print(classifier)\n",
    "    print(\"model score: %.3f\" % pipe.score(xtest, ytest))"
   ]
  },
  {
   "cell_type": "code",
   "execution_count": 120,
   "metadata": {},
   "outputs": [],
   "source": [
    "import pandas as pd\n",
    "import numpy as np\n",
    "import matplotlib.pyplot as plt\n",
    "import seaborn as sns\n",
    "import scipy.stats as ss\n",
    "from sklearn import metrics\n",
    "from sklearn.metrics import roc_auc_score, accuracy_score, classification_report, confusion_matrix, roc_curve\n",
    "import pickle\n",
    "from sklearn.metrics import ConfusionMatrixDisplay\n",
    "import re\n",
    "import matplotlib\n",
    "from sklearn.model_selection import GridSearchCV\n"
   ]
  },
  {
   "cell_type": "code",
   "execution_count": 127,
   "metadata": {},
   "outputs": [],
   "source": [
    "import lightgbm"
   ]
  },
  {
   "cell_type": "code",
   "execution_count": 140,
   "metadata": {},
   "outputs": [
    {
     "name": "stdout",
     "output_type": "stream",
     "text": [
      "Fitting 10 folds for each of 96 candidates, totalling 960 fits\n"
     ]
    },
    {
     "data": {
      "text/plain": [
       "GridSearchCV(cv=10,\n",
       "             estimator=Pipeline(steps=[('preprocessor',\n",
       "                                        ColumnTransformer(transformers=[('num',\n",
       "                                                                         Pipeline(steps=[('imputer',\n",
       "                                                                                          SimpleImputer(fill_value=0,\n",
       "                                                                                                        strategy='constant'))]),\n",
       "                                                                         Index(['Games Played', 'Winrate', 'KDA', 'CS per minute', 'Summoner Winrate',\n",
       "       'WinRate Last 5'],\n",
       "      dtype='object')),\n",
       "                                                                        ('cat',\n",
       "                                                                         Pipeline(steps=[('imputer',\n",
       "                                                                                          SimpleImputer(fill_value='missing',\n",
       "                                                                                                        s...\n",
       "                                       ('clasificador', LGBMClassifier())]),\n",
       "             n_jobs=-1,\n",
       "             param_grid={'clasificador__importance_type': ['split', 'gain'],\n",
       "                         'clasificador__is_unbalance': [False],\n",
       "                         'clasificador__learning_rate': [0.1, 0.05, 0.025],\n",
       "                         'clasificador__max_depth': [-1],\n",
       "                         'clasificador__n_estimators': [200, 300, 400, 500],\n",
       "                         'clasificador__num_leaves': [50, 100, 150, 200],\n",
       "                         'clasificador__objective': ['binary']},\n",
       "             scoring='accuracy', verbose=10)"
      ]
     },
     "execution_count": 140,
     "metadata": {},
     "output_type": "execute_result"
    }
   ],
   "source": [
    "model = Pipeline(steps=[('preprocessor', preprocessor),\n",
    "                      ('clasificador', lightgbm.LGBMClassifier())])\n",
    "\n",
    "param_grid = { \n",
    "    'clasificador__is_unbalance': [False],\n",
    "    'clasificador__max_depth': [-1],\n",
    "    'clasificador__objective': ['binary'],\n",
    "    'clasificador__learning_rate': [0.1, 0.05, 0.025], \n",
    "    'clasificador__n_estimators' : [200, 300, 400, 500], \n",
    "    'clasificador__importance_type' : ['split', 'gain'],\n",
    "    'clasificador__num_leaves': [50, 100, 150, 200]\n",
    "    }\n",
    "\n",
    "CV = GridSearchCV(model, param_grid, cv=10, n_jobs=-1, scoring='accuracy', verbose=10)\n",
    "CV.fit(xtrain, ytrain)"
   ]
  },
  {
   "cell_type": "code",
   "execution_count": 142,
   "metadata": {},
   "outputs": [
    {
     "data": {
      "text/plain": [
       "{'clasificador__importance_type': 'split',\n",
       " 'clasificador__is_unbalance': False,\n",
       " 'clasificador__learning_rate': 0.025,\n",
       " 'clasificador__max_depth': -1,\n",
       " 'clasificador__n_estimators': 200,\n",
       " 'clasificador__num_leaves': 50,\n",
       " 'clasificador__objective': 'binary'}"
      ]
     },
     "execution_count": 142,
     "metadata": {},
     "output_type": "execute_result"
    }
   ],
   "source": [
    "CV.best_params_"
   ]
  },
  {
   "cell_type": "code",
   "execution_count": 143,
   "metadata": {},
   "outputs": [],
   "source": [
    "ypred = CV.predict(xtest)\n",
    "ypred_proba = CV.predict_proba(xtest)"
   ]
  },
  {
   "cell_type": "code",
   "execution_count": 146,
   "metadata": {},
   "outputs": [
    {
     "name": "stdout",
     "output_type": "stream",
     "text": [
      "ROC-AUC score of the model: 0.7035211576064775\n",
      "Accuracy of the model: 0.6381107231388438\n",
      "\n",
      "Classification report: \n",
      "              precision    recall  f1-score   support\n",
      "\n",
      "           0       0.65      0.55      0.59     18069\n",
      "           1       0.63      0.72      0.67     19448\n",
      "\n",
      "    accuracy                           0.64     37517\n",
      "   macro avg       0.64      0.63      0.63     37517\n",
      "weighted avg       0.64      0.64      0.64     37517\n",
      "\n",
      "\n",
      "Confusion matrix: \n",
      "[[ 9935  8134]\n",
      " [ 5443 14005]]\n",
      "\n"
     ]
    }
   ],
   "source": [
    "evaluate_model(ytest, ypred, ypred_proba)"
   ]
  },
  {
   "cell_type": "code",
   "execution_count": 147,
   "metadata": {},
   "outputs": [
    {
     "data": {
      "image/png": "[encoded data removed]",
      "text/plain": [
       "<Figure size 648x648 with 1 Axes>"
      ]
     },
     "metadata": {
      "needs_background": "light"
     },
     "output_type": "display_data"
    },
    {
     "data": {
      "image/png": "[encoded data removed]",
      "text/plain": [
       "<Figure size 648x648 with 1 Axes>"
      ]
     },
     "metadata": {
      "needs_background": "light"
     },
     "output_type": "display_data"
    },
    {
     "name": "stdout",
     "output_type": "stream",
     "text": [
      "ROC-AUC score of the model: 0.7035211576064775\n",
      "Accuracy of the model: 0.6359783564783965\n",
      "\n",
      "Classification report: \n",
      "              precision    recall  f1-score   support\n",
      "\n",
      "           0       0.62      0.63      0.62     18069\n",
      "           1       0.65      0.65      0.65     19448\n",
      "\n",
      "    accuracy                           0.64     37517\n",
      "   macro avg       0.64      0.64      0.64     37517\n",
      "weighted avg       0.64      0.64      0.64     37517\n",
      "\n",
      "\n",
      "Confusion matrix: \n",
      "[[11308  6761]\n",
      " [ 6896 12552]]\n",
      "\n"
     ]
    },
    {
     "data": {
      "image/png": "[encoded data removed]",
      "text/plain": [
       "<Figure size 720x720 with 2 Axes>"
      ]
     },
     "metadata": {
      "needs_background": "light"
     },
     "output_type": "display_data"
    },
    {
     "data": {
      "image/png": "[encoded data removed]",
      "text/plain": [
       "<Figure size 720x720 with 2 Axes>"
      ]
     },
     "metadata": {
      "needs_background": "light"
     },
     "output_type": "display_data"
    }
   ],
   "source": [
    "model_analysis(CV, xtest, ytest)"
   ]
  }
 ],
 "metadata": {
  "interpreter": {
   "hash": "75234cef4d4b5401408a5d3b72f4265569f6601e8da7c73f173a51e561ebd976"
  },
  "kernelspec": {
   "display_name": "Python 3.8.12 ('core_models')",
   "language": "python",
   "name": "python3"
  },
  "language_info": {
   "codemirror_mode": {
    "name": "ipython",
    "version": 3
   },
   "file_extension": ".py",
   "mimetype": "text/x-python",
   "name": "python",
   "nbconvert_exporter": "python",
   "pygments_lexer": "ipython3",
   "version": "3.8.12"
  },
  "orig_nbformat": 4
 },
 "nbformat": 4,
 "nbformat_minor": 2
}
