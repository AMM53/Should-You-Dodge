{
 "cells": [
  {
   "cell_type": "code",
   "execution_count": 1,
   "metadata": {},
   "outputs": [],
   "source": [
    "# load libraries\n",
    "import pandas as pd\n",
    "import numpy as np\n",
    "import requests\n",
    "from bs4 import BeautifulSoup"
   ]
  },
  {
   "cell_type": "code",
   "execution_count": 1,
   "metadata": {},
   "outputs": [],
   "source": [
    "def get_info(summonername):\n",
    "    # request html document from champions played webpage (current season only, default option)\n",
    "\n",
    "    # for a given user name\n",
    "    user = summonername\n",
    "\n",
    "    # url formatting\n",
    "    user = user.replace(\" \", \"%20\")\n",
    "    url = \"https://euw.op.gg/summoners/euw/{}/champions\".format(user)\n",
    "\n",
    "    # make request and soup it\n",
    "    r = requests.get(url, headers={'User-Agent': 'Mozilla/5.0'})\n",
    "    soup = BeautifulSoup(r.text, 'html.parser')\n",
    "\n",
    "    # info extracting\n",
    "    champion_list = soup.find(class_=\"content\").find_all(\"tr\")\n",
    "\n",
    "    # get rid of table header\n",
    "    champion_list = champion_list[1:]\n",
    "\n",
    "    champion_info = []\n",
    "    for champion in champion_list:\n",
    "        # summoner name\n",
    "        summoner_name = soup.find(class_=\"name\").text\n",
    "        # champion played\n",
    "        champion_name = champion.find(\"img\")['alt']\n",
    "        # games won\n",
    "        try:\n",
    "            games_won = int(champion.find(class_=\"winratio-graph__text left\").text.replace(\"W\", \"\"))\n",
    "        except:\n",
    "            games_won = 0\n",
    "        # games lost\n",
    "        try:\n",
    "            games_lost = int(champion.find(class_=\"winratio-graph__text right\").text.replace(\"L\", \"\"))\n",
    "        except:\n",
    "            games_lost = 0\n",
    "        # games played\n",
    "        games_played = games_won + games_lost\n",
    "        # champion winrate\n",
    "        champion_wr = games_won/games_played\n",
    "        # kda\n",
    "        try:\n",
    "            kda = float(champion.find(class_=\"value\").find_all(\"div\")[1].text.replace(\":1\", \"\"))\n",
    "        except:\n",
    "            kda = 1000\n",
    "        # cs per minute\n",
    "        cspm = champion.find_all(class_=\"value\")[2].text\n",
    "        cspm = cspm[cspm.find('(')+1:cspm.find(')')]\n",
    "\n",
    "        champion_info.append([summoner_name, champion_name, games_played, champion_wr, kda, cspm])\n",
    "\n",
    "    # create dataframe with champion info from a desired player\n",
    "    champion_info = pd.DataFrame(champion_info, columns=[\"Summoner Name\", \"Champion\", \"Games Played\", \"Winrate\", \"KDA\", \"CS per minute\"])\n",
    "\n",
    "    # player info url\n",
    "    url = \"https://euw.op.gg/summoners/euw/{}\".format(user)\n",
    "\n",
    "    # make request and soup it\n",
    "    r = requests.get(url, headers={'User-Agent': 'Mozilla/5.0'})\n",
    "    games_info = BeautifulSoup(r.text, 'html.parser').find(class_=\"css-164r41r exlvoq30\").find_all(class_=\"css-ja2wlz e19epo2o3\")[0:20]\n",
    "\n",
    "    game_info = []\n",
    "    for game in games_info:\n",
    "        if game.find(class_=\"info\").find(class_=\"type\").text==\"Ranked Solo\":      \n",
    "            # summoner name\n",
    "            summoner_name = soup.find(class_=\"name\").text\n",
    "            # summoner winrate\n",
    "            summoner_wr = BeautifulSoup(r.text, 'html.parser').find(class_=\"win-lose\").text[-3:-1]\n",
    "            # game result\n",
    "            result = int(game.find(class_=\"game-result\").text.replace(\"Victory\", \"1\").replace(\"Defeat\", \"0\"))\n",
    "            # champion name\n",
    "            champion_name = game.find(class_=\"champion\").find(class_=\"name\").text\n",
    "            \n",
    "            game_info.append([summoner_name, champion_name, result])\n",
    "\n",
    "\n",
    "    games_df = pd.DataFrame(game_info, columns=[\"Summoner Name\", \"Champion\", \"Result\"])\n",
    "\n",
    "    # Winrate in last 10 games\n",
    "    \n",
    "    try:\n",
    "        games_df[\"WinRate Last 5\"] = sum(games_df['Result'][0:5])/len(games_df[0:5])\n",
    "    except:\n",
    "        games_df[\"WinRate Last 5\"] = 0\n",
    "\n",
    "    # Merge champion and player data\n",
    "    merged_data = pd.merge(champion_info, games_df, on=[\"Summoner Name\", \"Champion\"], how=\"right\")\n",
    "\n",
    "    return merged_data"
   ]
  },
  {
   "cell_type": "code",
   "execution_count": 2,
   "metadata": {},
   "outputs": [
    {
     "ename": "NameError",
     "evalue": "name 'requests' is not defined",
     "output_type": "error",
     "traceback": [
      "\u001b[1;31m---------------------------------------------------------------------------\u001b[0m",
      "\u001b[1;31mNameError\u001b[0m                                 Traceback (most recent call last)",
      "\u001b[1;32m<ipython-input-2-20795d7cda66>\u001b[0m in \u001b[0;36m<module>\u001b[1;34m\u001b[0m\n\u001b[0;32m      5\u001b[0m \u001b[1;33m\u001b[0m\u001b[0m\n\u001b[0;32m      6\u001b[0m     \u001b[1;31m# requests html for each page\u001b[0m\u001b[1;33m\u001b[0m\u001b[1;33m\u001b[0m\u001b[1;33m\u001b[0m\u001b[0m\n\u001b[1;32m----> 7\u001b[1;33m     \u001b[0mr\u001b[0m \u001b[1;33m=\u001b[0m \u001b[0mrequests\u001b[0m\u001b[1;33m.\u001b[0m\u001b[0mget\u001b[0m\u001b[1;33m(\u001b[0m\u001b[0murl\u001b[0m\u001b[1;33m,\u001b[0m \u001b[0mheaders\u001b[0m\u001b[1;33m=\u001b[0m\u001b[1;33m{\u001b[0m\u001b[1;34m'User-Agent'\u001b[0m\u001b[1;33m:\u001b[0m \u001b[1;34m'Mozilla/5.0'\u001b[0m\u001b[1;33m}\u001b[0m\u001b[1;33m)\u001b[0m\u001b[1;33m\u001b[0m\u001b[1;33m\u001b[0m\u001b[0m\n\u001b[0m\u001b[0;32m      8\u001b[0m     \u001b[0msoup\u001b[0m \u001b[1;33m=\u001b[0m \u001b[0mBeautifulSoup\u001b[0m\u001b[1;33m(\u001b[0m\u001b[0mr\u001b[0m\u001b[1;33m.\u001b[0m\u001b[0mtext\u001b[0m\u001b[1;33m,\u001b[0m \u001b[1;34m'html.parser'\u001b[0m\u001b[1;33m)\u001b[0m\u001b[1;33m\u001b[0m\u001b[1;33m\u001b[0m\u001b[0m\n\u001b[0;32m      9\u001b[0m \u001b[1;33m\u001b[0m\u001b[0m\n",
      "\u001b[1;31mNameError\u001b[0m: name 'requests' is not defined"
     ]
    }
   ],
   "source": [
    "name_list = []\n",
    "for page in range(665, 666):\n",
    "    # change url to new page\n",
    "    url = \"https://euw.op.gg/leaderboards/tier?page={}&region=euw\".format(page)\n",
    "\n",
    "    # requests html for each page\n",
    "    r = requests.get(url, headers={'User-Agent': 'Mozilla/5.0'})\n",
    "    soup = BeautifulSoup(r.text, 'html.parser')\n",
    "\n",
    "    raw_names = soup.find_all(class_=\"css-1xdhyk6 ei93w700\")\n",
    "    for name in raw_names:\n",
    "        name_list.append(name.find(\"strong\").text)\n"
   ]
  },
  {
   "cell_type": "code",
   "execution_count": 4,
   "metadata": {},
   "outputs": [
    {
     "ename": "ValueError",
     "evalue": "could not convert string to float: 'Perfect'",
     "output_type": "error",
     "traceback": [
      "\u001b[1;31m---------------------------------------------------------------------------\u001b[0m",
      "\u001b[1;31mValueError\u001b[0m                                Traceback (most recent call last)",
      "\u001b[1;32m<ipython-input-4-72ac856ae780>\u001b[0m in \u001b[0;36m<module>\u001b[1;34m\u001b[0m\n\u001b[0;32m      1\u001b[0m \u001b[0mdf\u001b[0m \u001b[1;33m=\u001b[0m \u001b[0mpd\u001b[0m\u001b[1;33m.\u001b[0m\u001b[0mDataFrame\u001b[0m\u001b[1;33m(\u001b[0m\u001b[1;33m)\u001b[0m\u001b[1;33m\u001b[0m\u001b[1;33m\u001b[0m\u001b[0m\n\u001b[0;32m      2\u001b[0m \u001b[1;32mfor\u001b[0m \u001b[0mname\u001b[0m \u001b[1;32min\u001b[0m \u001b[0mname_list\u001b[0m\u001b[1;33m[\u001b[0m\u001b[1;36m0\u001b[0m\u001b[1;33m:\u001b[0m\u001b[1;36m5\u001b[0m\u001b[1;33m]\u001b[0m\u001b[1;33m:\u001b[0m\u001b[1;33m\u001b[0m\u001b[1;33m\u001b[0m\u001b[0m\n\u001b[1;32m----> 3\u001b[1;33m     \u001b[0mdf\u001b[0m \u001b[1;33m=\u001b[0m \u001b[0mdf\u001b[0m\u001b[1;33m.\u001b[0m\u001b[0mappend\u001b[0m\u001b[1;33m(\u001b[0m\u001b[0mget_info\u001b[0m\u001b[1;33m(\u001b[0m\u001b[0mname\u001b[0m\u001b[1;33m)\u001b[0m\u001b[1;33m)\u001b[0m\u001b[1;33m\u001b[0m\u001b[1;33m\u001b[0m\u001b[0m\n\u001b[0m",
      "\u001b[1;32m<ipython-input-2-6a7b96114a97>\u001b[0m in \u001b[0;36mget_info\u001b[1;34m(summonername)\u001b[0m\n\u001b[0;32m     40\u001b[0m         \u001b[0mchampion_wr\u001b[0m \u001b[1;33m=\u001b[0m \u001b[0mgames_won\u001b[0m\u001b[1;33m/\u001b[0m\u001b[0mgames_played\u001b[0m\u001b[1;33m\u001b[0m\u001b[1;33m\u001b[0m\u001b[0m\n\u001b[0;32m     41\u001b[0m         \u001b[1;31m# kda\u001b[0m\u001b[1;33m\u001b[0m\u001b[1;33m\u001b[0m\u001b[1;33m\u001b[0m\u001b[0m\n\u001b[1;32m---> 42\u001b[1;33m         \u001b[0mkda\u001b[0m \u001b[1;33m=\u001b[0m \u001b[0mfloat\u001b[0m\u001b[1;33m(\u001b[0m\u001b[0mchampion\u001b[0m\u001b[1;33m.\u001b[0m\u001b[0mfind\u001b[0m\u001b[1;33m(\u001b[0m\u001b[0mclass_\u001b[0m\u001b[1;33m=\u001b[0m\u001b[1;34m\"value\"\u001b[0m\u001b[1;33m)\u001b[0m\u001b[1;33m.\u001b[0m\u001b[0mfind_all\u001b[0m\u001b[1;33m(\u001b[0m\u001b[1;34m\"div\"\u001b[0m\u001b[1;33m)\u001b[0m\u001b[1;33m[\u001b[0m\u001b[1;36m1\u001b[0m\u001b[1;33m]\u001b[0m\u001b[1;33m.\u001b[0m\u001b[0mtext\u001b[0m\u001b[1;33m.\u001b[0m\u001b[0mreplace\u001b[0m\u001b[1;33m(\u001b[0m\u001b[1;34m\":1\"\u001b[0m\u001b[1;33m,\u001b[0m \u001b[1;34m\"\"\u001b[0m\u001b[1;33m)\u001b[0m\u001b[1;33m)\u001b[0m\u001b[1;33m\u001b[0m\u001b[1;33m\u001b[0m\u001b[0m\n\u001b[0m\u001b[0;32m     43\u001b[0m         \u001b[1;31m# cs per minute\u001b[0m\u001b[1;33m\u001b[0m\u001b[1;33m\u001b[0m\u001b[1;33m\u001b[0m\u001b[0m\n\u001b[0;32m     44\u001b[0m         \u001b[0mcspm\u001b[0m \u001b[1;33m=\u001b[0m \u001b[0mchampion\u001b[0m\u001b[1;33m.\u001b[0m\u001b[0mfind_all\u001b[0m\u001b[1;33m(\u001b[0m\u001b[0mclass_\u001b[0m\u001b[1;33m=\u001b[0m\u001b[1;34m\"value\"\u001b[0m\u001b[1;33m)\u001b[0m\u001b[1;33m[\u001b[0m\u001b[1;36m2\u001b[0m\u001b[1;33m]\u001b[0m\u001b[1;33m.\u001b[0m\u001b[0mtext\u001b[0m\u001b[1;33m\u001b[0m\u001b[1;33m\u001b[0m\u001b[0m\n",
      "\u001b[1;31mValueError\u001b[0m: could not convert string to float: 'Perfect'"
     ]
    }
   ],
   "source": [
    "df = pd.DataFrame()\n",
    "for name in name_list[0:5]:\n",
    "    df = df.append(get_info(name))"
   ]
  }
 ],
 "metadata": {
  "interpreter": {
   "hash": "75234cef4d4b5401408a5d3b72f4265569f6601e8da7c73f173a51e561ebd976"
  },
  "kernelspec": {
   "display_name": "Python 3.8.12 ('core_models')",
   "language": "python",
   "name": "python3"
  },
  "language_info": {
   "codemirror_mode": {
    "name": "ipython",
    "version": 3
   },
   "file_extension": ".py",
   "mimetype": "text/x-python",
   "name": "python",
   "nbconvert_exporter": "python",
   "pygments_lexer": "ipython3",
   "version": "3.8.12"
  },
  "orig_nbformat": 4
 },
 "nbformat": 4,
 "nbformat_minor": 2
}
